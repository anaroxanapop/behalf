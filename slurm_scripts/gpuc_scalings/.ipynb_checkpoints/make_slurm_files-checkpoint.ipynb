{
 "cells": [
  {
   "cell_type": "markdown",
   "metadata": {
    "toc": true
   },
   "source": [
    "<h1>Table of Contents<span class=\"tocSkip\"></span></h1>\n",
    "<div class=\"toc\"><ul class=\"toc-item\"></ul></div>"
   ]
  },
  {
   "cell_type": "code",
   "execution_count": 1,
   "metadata": {
    "collapsed": true
   },
   "outputs": [],
   "source": [
    "import numpy as np"
   ]
  },
  {
   "cell_type": "code",
   "execution_count": 2,
   "metadata": {
    "collapsed": true
   },
   "outputs": [],
   "source": [
    "def parse_name(run_name):\n",
    "    run_type, cores, parts, steps, time = run_name.split('_')\n",
    "    if len(cores.split('-')) == 2:\n",
    "        cores, nodes = cores.split('-')\n",
    "    else:\n",
    "        nodes = '1'\n",
    "    dt = float('{:.3f}'.format(1./float(time))) # round to 3 sig figs\n",
    "    cores = int(cores)\n",
    "    nodes = int(nodes)\n",
    "    if cores > nodes:\n",
    "        ngpu = 2\n",
    "    else:\n",
    "        ngpu = 1\n",
    "    parts = int(parts)\n",
    "    steps = int(steps)\n",
    "    est_hours = 2.0\n",
    "    est_hours *= steps / 100.\n",
    "    est_hours *= (parts / 1000.) * np.log(parts / 1000.)\n",
    "    est_hours /= (cores)**0.5\n",
    "    hours = int(est_hours % 24)+2\n",
    "    days = int(est_hours // 24)\n",
    "    if hours >= 24:\n",
    "        hours -= 24\n",
    "        days += 1\n",
    "    return cores, nodes, ngpu, parts, steps, dt, days, hours"
   ]
  },
  {
   "cell_type": "code",
   "execution_count": 3,
   "metadata": {
    "collapsed": true
   },
   "outputs": [],
   "source": [
    "def make_slurm_file(run_name):\n",
    "    ncores, nnodes, ngpus, nparts, nsteps, dt, days, hours = parse_name(run_name)\n",
    "    text = '#!/bin/bash\\n'\n",
    "    text += '#SBATCH -p holyseasgpu\\n'\n",
    "    text += '#SBATCH -J {:s} # Job Name\\n'.format(run_name)\n",
    "    text += '#SBATCH -n {:d} # Number of MPI tasks\\n'.format(ncores)\n",
    "    text += '#SBATCH -N {:d} # Fix number of nodes\\n'.format(nnodes)\n",
    "    text += '#SBATCH --gres=gpu:{:d} #Number of GPUs requested per node\\n'.format(ngpus)\n",
    "    text += '#SBATCH --constraint=cuda-7.5 #require CUDA\\n'\n",
    "    text += '#SBATCH -t {:d}-{:02d}:00 # runtime in D-HH:MM\\n'.format(days, hours)\n",
    "    text += '#SBATCH --mem-per-cpu 1536 # memory per MPI task\\n'\n",
    "    text += '#SBATCH -o logs/%x.out\\n'\n",
    "    text += '#SBATCH -e logs/%x.err\\n'\n",
    "    text += '#SBATCH --mail-type=BEGIN,END,FAIL #alert when done\\n'\n",
    "    text += '#SBATCH --mail-user=bcook@cfa.harvard.edu # Email to send to\\n\\n'\n",
    "    \n",
    "    save_every = 10\n",
    "    if nsteps < 100:\n",
    "        save_every = 1\n",
    "    text += 'mpiexec -n $SLURM_NTASKS run_behalf.py --run-name $SLURM_JOB_NAME --clobber --N-parts {:d} --N-steps {:d} --dt {:.3f} --save-every {:d}\\n'.format(nparts, nsteps, dt, save_every)\n",
    "    text += 'RESULT=${PIPESTATUS[0]}\\n'\n",
    "    text += 'sacct -j $SLURM_JOB_ID ----format=JOBID%20,JobName,NTasks,AllocCPUs,AllocGRES,Partition,Elapsed,MaxRSS,MaxVMSize,MaxDiskRead,MaxDiskWrite,State\\n'\n",
    "    text += 'exit $RESULT\\n'\n",
    "    return text"
   ]
  },
  {
   "cell_type": "code",
   "execution_count": 4,
   "metadata": {},
   "outputs": [],
   "source": [
    "# for name in ['gpuc_1_1000_10_100','gpuc_1_4000_3_100','gpuc_1_16000_3_100', 'gpuc_2_1000_10_100',\n",
    "#              'gpuc_2-2_1000_10_100','gpuc_4-2_1000_10_100','gpuc_4-4_1000_10_100',\n",
    "#              'gpuc_8-1_1000_10_100','gpuc_8-2_1000_10_100','gpuc_8-4_1000_10_100','gpuc_8-8_1000_10_100',\n",
    "#              'gpuc_16-8_1000_10_100','gpuc_32-8_1000_10_100','gpuc_64-8_1000_10_100',\n",
    "#              'gpuc_128-8_1000_10_100','gpuc_256-8_1000_10_100','gpuc_576-12_1000_10_100',\n",
    "#              'gpuc_576-12_10000_3_100','gpuc_576-12_100000_3_100',\n",
    "#              'gpuc_4-2_4000_10_100','gpuc_4-2_16000_3_100','gpuc_8-4_4000_10_100','gpuc_8-4_16000_3_100',\n",
    "#              'gpuc_8-4_100000_3_100','gpuc_16-8_4000_10_100','gpuc_16-8_16000_3_100',\n",
    "#              'gpuc_16-8_100000_3_100']:\n",
    "#     print(name)\n",
    "#     with open(name + '.slurm', 'w') as f:\n",
    "#         f.write(make_slurm_file(name))"
   ]
  },
  {
   "cell_type": "code",
   "execution_count": 8,
   "metadata": {},
   "outputs": [
    {
     "name": "stdout",
     "output_type": "stream",
     "text": [
      "gpuc_576-12_1000_10_100\n",
      "gpuc_576-12_10000_3_100\n",
      "gpuc_576-12_4000_3_100\n",
      "gpuc_576-12_16000_3_100\n",
      "gpuc_576-12_32000_3_100\n",
      "gpuc_576-12_64000_3_100\n",
      "gpuc_4_1000_10_100\n",
      "gpuc_8-1_1000_10_100\n",
      "gpuc_8-2_1000_10_100\n",
      "gpuc_32-8_1000_10_100\n",
      "gpuc_64-8_1000_10_100\n",
      "gpuc_128-8_1000_10_100\n",
      "gpuc_256-8_1000_10_100\n"
     ]
    }
   ],
   "source": [
    "for name in ['gpuc_576-12_1000_10_100','gpuc_576-12_10000_3_100','gpuc_576-12_4000_3_100',\n",
    "             'gpuc_576-12_16000_3_100','gpuc_576-12_32000_3_100','gpuc_576-12_64000_3_100',\n",
    "             'gpuc_4_1000_10_100','gpuc_8-1_1000_10_100','gpuc_8-2_1000_10_100',\n",
    "             'gpuc_32-8_1000_10_100','gpuc_64-8_1000_10_100','gpuc_128-8_1000_10_100','gpuc_256-8_1000_10_100']:\n",
    "    print(name)\n",
    "    with open('../gpuc_scalings_v2/'+name + '.slurm', 'w') as f:\n",
    "        f.write(make_slurm_file(name))"
   ]
  },
  {
   "cell_type": "code",
   "execution_count": null,
   "metadata": {
    "collapsed": true
   },
   "outputs": [],
   "source": []
  }
 ],
 "metadata": {
  "kernelspec": {
   "display_name": "Python 3",
   "language": "python",
   "name": "python3"
  },
  "language_info": {
   "codemirror_mode": {
    "name": "ipython",
    "version": 3
   },
   "file_extension": ".py",
   "mimetype": "text/x-python",
   "name": "python",
   "nbconvert_exporter": "python",
   "pygments_lexer": "ipython3",
   "version": "3.6.3"
  },
  "toc": {
   "nav_menu": {},
   "number_sections": false,
   "sideBar": true,
   "skip_h1_title": false,
   "title_cell": "Table of Contents",
   "title_sidebar": "Contents",
   "toc_cell": true,
   "toc_position": {},
   "toc_section_display": true,
   "toc_window_display": true
  }
 },
 "nbformat": 4,
 "nbformat_minor": 2
}
